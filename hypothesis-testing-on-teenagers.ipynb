{
 "cells": [
  {
   "cell_type": "markdown",
   "id": "7aea01d1",
   "metadata": {
    "id": "177mIfMoQMkb",
    "papermill": {
     "duration": 0.006372,
     "end_time": "2022-01-17T08:22:39.811901",
     "exception": false,
     "start_time": "2022-01-17T08:22:39.805529",
     "status": "completed"
    },
    "tags": []
   },
   "source": [
    "Population: Parents with a teenager (age 13-18) Parameter of Interest: p\n",
    "\n",
    "Null Hypothesis: p = 0.52\n",
    "\n",
    "Alternative Hypthosis: p > 0.52 (note that this is a one-sided test)\n",
    "\n",
    "Data: 1018 people were surveyed. 56% of those who were surveyed believe that their teenager’s lack of sleep is caused due to electronics and social media."
   ]
  },
  {
   "cell_type": "code",
   "execution_count": 1,
   "id": "eb57041e",
   "metadata": {
    "execution": {
     "iopub.execute_input": "2022-01-17T08:22:39.835425Z",
     "iopub.status.busy": "2022-01-17T08:22:39.834478Z",
     "iopub.status.idle": "2022-01-17T08:22:41.557949Z",
     "shell.execute_reply": "2022-01-17T08:22:41.557261Z"
    },
    "id": "en4aVkbiQN1t",
    "outputId": "63019fe2-f1b3-4cee-8eed-8c2d7bb8073f",
    "papermill": {
     "duration": 1.740272,
     "end_time": "2022-01-17T08:22:41.558145",
     "exception": false,
     "start_time": "2022-01-17T08:22:39.817873",
     "status": "completed"
    },
    "tags": []
   },
   "outputs": [],
   "source": [
    "import statsmodels.api as sm\n",
    "import numpy as np\n",
    "import matplotlib.pyplot as plt\n",
    "import pandas as pd"
   ]
  },
  {
   "cell_type": "code",
   "execution_count": 2,
   "id": "4cd6e9d8",
   "metadata": {
    "execution": {
     "iopub.execute_input": "2022-01-17T08:22:41.572380Z",
     "iopub.status.busy": "2022-01-17T08:22:41.571617Z",
     "iopub.status.idle": "2022-01-17T08:22:41.576872Z",
     "shell.execute_reply": "2022-01-17T08:22:41.576094Z"
    },
    "id": "kXwMpBTRQWK2",
    "papermill": {
     "duration": 0.013669,
     "end_time": "2022-01-17T08:22:41.577037",
     "exception": false,
     "start_time": "2022-01-17T08:22:41.563368",
     "status": "completed"
    },
    "tags": []
   },
   "outputs": [],
   "source": [
    "n= 1018\n",
    "pnull = 0.52\n",
    "phat = 0.56"
   ]
  },
  {
   "cell_type": "code",
   "execution_count": 3,
   "id": "b040ba88",
   "metadata": {
    "execution": {
     "iopub.execute_input": "2022-01-17T08:22:41.589635Z",
     "iopub.status.busy": "2022-01-17T08:22:41.588977Z",
     "iopub.status.idle": "2022-01-17T08:22:41.596702Z",
     "shell.execute_reply": "2022-01-17T08:22:41.597289Z"
    },
    "id": "LpPOyUHLQcNY",
    "outputId": "8ce2de57-f462-4e9d-98c8-5ae4f8e52702",
    "papermill": {
     "duration": 0.015661,
     "end_time": "2022-01-17T08:22:41.597462",
     "exception": false,
     "start_time": "2022-01-17T08:22:41.581801",
     "status": "completed"
    },
    "tags": []
   },
   "outputs": [
    {
     "data": {
      "text/plain": [
       "(2.571067795759113, 0.005069273865860533)"
      ]
     },
     "execution_count": 3,
     "metadata": {},
     "output_type": "execute_result"
    }
   ],
   "source": [
    "# Use of proportions_ztest() from statsmodels\n",
    "\n",
    "sm.stats.proportions_ztest(phat * n, n, pnull, alternative='larger')"
   ]
  },
  {
   "cell_type": "markdown",
   "id": "dab71fb4",
   "metadata": {
    "id": "ww5Z16F0QhLz",
    "papermill": {
     "duration": 0.005009,
     "end_time": "2022-01-17T08:22:41.607831",
     "exception": false,
     "start_time": "2022-01-17T08:22:41.602822",
     "status": "completed"
    },
    "tags": []
   },
   "source": [
    "#Conclusion of the hypothesis test\n",
    "- Since the calculated p-value of the z-test is pretty small, we can reject the Null hypothesis that the percentage of parents, who believe that their teenager’s lack of sleep is caused due to electronics and social media, is as same as previous years' estimate i.e. 52%.\n",
    "\n",
    "- Although, we do not accept the alternate hypothesis, this informally means that there is a good chance of this proportion being more than 52%."
   ]
  }
 ],
 "metadata": {
  "kernelspec": {
   "display_name": "Python 3",
   "language": "python",
   "name": "python3"
  },
  "language_info": {
   "codemirror_mode": {
    "name": "ipython",
    "version": 3
   },
   "file_extension": ".py",
   "mimetype": "text/x-python",
   "name": "python",
   "nbconvert_exporter": "python",
   "pygments_lexer": "ipython3",
   "version": "3.7.12"
  },
  "papermill": {
   "default_parameters": {},
   "duration": 12.947463,
   "end_time": "2022-01-17T08:22:42.323558",
   "environment_variables": {},
   "exception": null,
   "input_path": "__notebook__.ipynb",
   "output_path": "__notebook__.ipynb",
   "parameters": {},
   "start_time": "2022-01-17T08:22:29.376095",
   "version": "2.3.3"
  }
 },
 "nbformat": 4,
 "nbformat_minor": 5
}
